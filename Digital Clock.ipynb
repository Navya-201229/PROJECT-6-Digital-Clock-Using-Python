{
 "cells": [
  {
   "cell_type": "markdown",
   "id": "a81aa17a",
   "metadata": {},
   "source": [
    "### Digital Clock using Python Libraries"
   ]
  },
  {
   "cell_type": "code",
   "execution_count": 1,
   "id": "717cc75e",
   "metadata": {},
   "outputs": [],
   "source": [
    "pip install turtle"
   ]
  },
  {
   "cell_type": "code",
   "execution_count": 2,
   "id": "2cc7cc70",
   "metadata": {},
   "outputs": [],
   "source": [
    "import time\n",
    "import datetime as dt\n",
    "import turtle\n",
    "# create a turtle to display time\n",
    "t = turtle.Turtle()\n",
    " \n",
    "# create a turtle to create rectangle box\n",
    "t1 = turtle.Turtle()\n",
    " \n",
    "# create screen\n",
    "s = turtle.Screen()\n",
    " \n",
    "# set background color of the screen\n",
    "s.bgcolor(\"gre\")\n",
    " \n",
    "# obtain current hour, minute and second\n",
    "# from the system\n",
    "sec = dt.datetime.now().second\n",
    "min = dt.datetime.now().minute\n",
    "hr = dt.datetime.now().hour\n",
    "t1.pensize(3)\n",
    "t1.color('black')\n",
    "t1.penup()\n",
    " \n",
    "# set the position of turtle\n",
    "t1.goto(-20, 0)\n",
    "t1.pendown()\n",
    " \n",
    "# create rectangular box\n",
    "for i in range(2):\n",
    "    t1.forward(200)\n",
    "    t1.left(90)\n",
    "    t1.forward(70)\n",
    "    t1.left(90)\n",
    " \n",
    "# hide the turtle\n",
    "t1.hideturtle()\n",
    " \n",
    "while True:\n",
    "    t.hideturtle()\n",
    "    t.clear()\n",
    "    # display the time\n",
    "    t.write(str(hr).zfill(2)\n",
    "            + \":\"+str(min).zfill(2)+\":\"\n",
    "            + str(sec).zfill(2),\n",
    "            font=(\"Arial Narrow\", 35, \"bold\"))\n",
    "    time.sleep(1)\n",
    "    sec += 1\n",
    " \n",
    "    if sec == 60:\n",
    "        sec = 0\n",
    "        min += 1\n",
    " \n",
    "    if min == 60:\n",
    "        min = 0\n",
    "        hr += 1\n",
    " \n",
    "    if hr == 13:\n",
    "        hr = 1\n",
    " \n"
   ]
  }
 ],
 "metadata": {
  "kernelspec": {
   "display_name": "Python 3 (ipykernel)",
   "language": "python",
   "name": "python3"
  },
  "language_info": {
   "codemirror_mode": {
    "name": "ipython",
    "version": 3
   },
   "file_extension": ".py",
   "mimetype": "text/x-python",
   "name": "python",
   "nbconvert_exporter": "python",
   "pygments_lexer": "ipython3",
   "version": "3.10.9"
  }
 },
 "nbformat": 4,
 "nbformat_minor": 5
}
